{
  "cells": [
    {
      "cell_type": "code",
      "execution_count": null,
      "id": "4da76f15",
      "metadata": {
        "id": "4da76f15",
        "colab": {
          "base_uri": "https://localhost:8080/"
        },
        "outputId": "0285f093-9288-4c1f-c68c-70c8286c3f10"
      },
      "outputs": [
        {
          "output_type": "stream",
          "name": "stdout",
          "text": [
            "Sat Mar 16 06:14:56 2024       \n",
            "+---------------------------------------------------------------------------------------+\n",
            "| NVIDIA-SMI 535.104.05             Driver Version: 535.104.05   CUDA Version: 12.2     |\n",
            "|-----------------------------------------+----------------------+----------------------+\n",
            "| GPU  Name                 Persistence-M | Bus-Id        Disp.A | Volatile Uncorr. ECC |\n",
            "| Fan  Temp   Perf          Pwr:Usage/Cap |         Memory-Usage | GPU-Util  Compute M. |\n",
            "|                                         |                      |               MIG M. |\n",
            "|=========================================+======================+======================|\n",
            "|   0  Tesla T4                       Off | 00000000:00:04.0 Off |                    0 |\n",
            "| N/A   59C    P8              10W /  70W |      0MiB / 15360MiB |      0%      Default |\n",
            "|                                         |                      |                  N/A |\n",
            "+-----------------------------------------+----------------------+----------------------+\n",
            "                                                                                         \n",
            "+---------------------------------------------------------------------------------------+\n",
            "| Processes:                                                                            |\n",
            "|  GPU   GI   CI        PID   Type   Process name                            GPU Memory |\n",
            "|        ID   ID                                                             Usage      |\n",
            "|=======================================================================================|\n",
            "|  No running processes found                                                           |\n",
            "+---------------------------------------------------------------------------------------+\n"
          ]
        }
      ],
      "source": [
        "!nvidia-smi"
      ]
    },
    {
      "cell_type": "code",
      "source": [
        "from google.colab import drive\n",
        "drive.mount('/content/drive')"
      ],
      "metadata": {
        "colab": {
          "base_uri": "https://localhost:8080/"
        },
        "id": "lLYjRu--Biud",
        "outputId": "15aaae1b-6693-4797-fe72-53b52a09b948"
      },
      "id": "lLYjRu--Biud",
      "execution_count": null,
      "outputs": [
        {
          "output_type": "stream",
          "name": "stdout",
          "text": [
            "Drive already mounted at /content/drive; to attempt to forcibly remount, call drive.mount(\"/content/drive\", force_remount=True).\n"
          ]
        }
      ]
    },
    {
      "cell_type": "code",
      "execution_count": null,
      "id": "b37a8a41",
      "metadata": {
        "id": "b37a8a41"
      },
      "outputs": [],
      "source": [
        "import tensorflow as tf\n",
        "import tensorflow.keras as keras\n",
        "import numpy as np"
      ]
    },
    {
      "cell_type": "code",
      "execution_count": null,
      "id": "587270a9-fd7d-4c7d-b44d-a6b6ba91f67d",
      "metadata": {
        "id": "587270a9-fd7d-4c7d-b44d-a6b6ba91f67d"
      },
      "outputs": [],
      "source": [
        "import tensorflow.keras.backend as K"
      ]
    },
    {
      "cell_type": "code",
      "execution_count": null,
      "id": "da8c4cc8-0f89-4a0c-8282-5a217f8f7808",
      "metadata": {
        "id": "da8c4cc8-0f89-4a0c-8282-5a217f8f7808"
      },
      "outputs": [],
      "source": [
        "from keras import layers"
      ]
    },
    {
      "cell_type": "code",
      "execution_count": null,
      "id": "7a35e9ae",
      "metadata": {
        "id": "7a35e9ae"
      },
      "outputs": [],
      "source": [
        "import matplotlib.pyplot as plt"
      ]
    },
    {
      "cell_type": "code",
      "execution_count": null,
      "id": "abb7d683-ba58-47be-857d-57a8abfa1d5a",
      "metadata": {
        "id": "abb7d683-ba58-47be-857d-57a8abfa1d5a"
      },
      "outputs": [],
      "source": [
        "import IPython.display as disp"
      ]
    },
    {
      "cell_type": "code",
      "execution_count": null,
      "id": "a6d48d54",
      "metadata": {
        "colab": {
          "base_uri": "https://localhost:8080/"
        },
        "id": "a6d48d54",
        "outputId": "f3c0d031-72eb-4ae5-e93e-7f644879bfef"
      },
      "outputs": [
        {
          "output_type": "stream",
          "name": "stdout",
          "text": [
            "[PhysicalDevice(name='/physical_device:CPU:0', device_type='CPU'), PhysicalDevice(name='/physical_device:GPU:0', device_type='GPU')]\n"
          ]
        }
      ],
      "source": [
        "print(tf.config.list_physical_devices())"
      ]
    },
    {
      "cell_type": "markdown",
      "id": "c4141b3b",
      "metadata": {
        "id": "c4141b3b"
      },
      "source": [
        "# DATA\n"
      ]
    },
    {
      "cell_type": "markdown",
      "id": "fd4e525c-8f56-4f4e-8786-adcb61c250e5",
      "metadata": {
        "id": "fd4e525c-8f56-4f4e-8786-adcb61c250e5"
      },
      "source": [
        "### Loading Head and Tail Separately"
      ]
    },
    {
      "cell_type": "code",
      "execution_count": null,
      "id": "b87aeb84-9e41-433a-a844-8709fff1949c",
      "metadata": {
        "colab": {
          "base_uri": "https://localhost:8080/"
        },
        "id": "b87aeb84-9e41-433a-a844-8709fff1949c",
        "outputId": "c0c759c3-0c40-4477-d050-7ca22c371c29"
      },
      "outputs": [
        {
          "output_type": "stream",
          "name": "stdout",
          "text": [
            "Found 6457 files belonging to 1 classes.\n",
            "Using 5812 files for training.\n",
            "Found 6457 files belonging to 1 classes.\n",
            "Using 645 files for validation.\n"
          ]
        }
      ],
      "source": [
        "orig_image_size = (600,450)\n",
        "image_size=(360,270)\n",
        "batch_size=None\n",
        "\n",
        "def normalize_image(image, label):\n",
        "    image=tf.cast(image, tf.float32)/255.0\n",
        "    image=tf.image.resize(image,image_size)\n",
        "    return image,label\n",
        "\n",
        "def head_map(image, label):\n",
        "    return image, tf.cond(tf.equal(label,0), lambda: tf.constant(5), lambda: tf.constant(0))\n",
        "\n",
        "def middle_map(image, label):\n",
        "    return image, tf.cond(tf.equal(label, 0), lambda: tf.constant(2),\n",
        "                lambda: tf.cond(tf.equal(label, 1), lambda: tf.constant(4),\n",
        "                lambda: tf.constant(0)))\n",
        "\n",
        "def tail1_map(image, label):\n",
        "    return image, tf.cond(tf.equal(label, 0), lambda: tf.constant(6),\n",
        "                lambda: tf.cond(tf.equal(label, 1), lambda: tf.constant(3),\n",
        "                lambda: tf.constant(0)))\n",
        "def tail2_map(image, label):\n",
        "    return image, tf.cond(tf.equal(label, 0), lambda: tf.constant(0),\n",
        "                lambda: tf.cond(tf.equal(label, 1), lambda: tf.constant(1),\n",
        "                lambda: tf.constant(0)))\n",
        "\n",
        "\n",
        "class_names = ['akiec', 'bcc', 'bkl', 'df', 'mel', 'nv', 'vasc']\n",
        "head_class = ['nv']\n",
        "middle_class = ['bkl','mel']\n",
        "tail_class_1 = ['vasc','df']\n",
        "tail_class_2 = ['akiec' ,'bcc']\n",
        "\n",
        "#for jupyter\n",
        "#data_dir = \"Dataset/KCDH2024_Training_Input_10K_Organized/\"\n",
        "\n",
        "#for colab\n",
        "data_dir = \"/content/drive/My Drive/KCDH2024_Training_Input_10K_Organized/KCDH2024_Training_Input_10K_Organized/\"\n",
        "\n",
        "\n",
        "head_data = keras.utils.image_dataset_from_directory( data_dir + \"head/\",\n",
        "                                                    class_names=head_class,\n",
        "                                                         image_size=image_size,\n",
        "                                                   color_mode=\"rgb\",\n",
        "                                                   shuffle=True,\n",
        "                                                     validation_split=0.1,\n",
        "                                                     seed=0,\n",
        "                                                     subset='training',\n",
        "                                                    batch_size=batch_size)\n",
        "head_datav = keras.utils.image_dataset_from_directory( data_dir + 'head/',\n",
        "                                                    class_names=head_class,\n",
        "                                                         image_size=image_size,\n",
        "                                                   color_mode=\"rgb\",\n",
        "                                                   shuffle=True,\n",
        "                                                     validation_split=0.1,\n",
        "                                                     seed=0,\n",
        "                                                     subset='validation',\n",
        "                                                    batch_size=batch_size)\n",
        "\n",
        "\n",
        "middle_data = keras.utils.image_dataset_from_directory( data_dir + 'middle/',\n",
        "                                                    class_names=middle_class,\n",
        "                                                         image_size=image_size,\n",
        "                                                   color_mode=\"rgb\",\n",
        "                                                   shuffle=True,\n",
        "                                                       validation_split=0.1,\n",
        "                                                     seed=0,\n",
        "                                                     subset='training',\n",
        "                                                    batch_size=batch_size)\n",
        "middle_datav = keras.utils.image_dataset_from_directory( data_dir + 'middle/',\n",
        "                                                    class_names=middle_class,\n",
        "                                                         image_size=image_size,\n",
        "                                                   color_mode=\"rgb\",\n",
        "                                                   shuffle=True,\n",
        "                                                       validation_split=0.1,\n",
        "                                                     seed=0,\n",
        "                                                     subset='validation',\n",
        "                                                    batch_size=batch_size)\n",
        "\n",
        "tail_data_1 = keras.utils.image_dataset_from_directory( data_dir + 'tail/tail_class_1',\n",
        "                                                    class_names=tail_class_1,\n",
        "                                                         image_size=image_size,\n",
        "                                                   color_mode=\"rgb\",\n",
        "                                                   shuffle=True,\n",
        "                                                     validation_split=0.1,\n",
        "                                                     seed=0,\n",
        "                                                     subset='training',\n",
        "                                                    batch_size=batch_size)\n",
        "tail_datav_1 = keras.utils.image_dataset_from_directory( data_dir + 'tail/tail_class_1',\n",
        "                                                    class_names=tail_class_1,\n",
        "                                                         image_size=image_size,\n",
        "                                                   color_mode=\"rgb\",\n",
        "                                                   shuffle=True,\n",
        "                                                     validation_split=0.1,\n",
        "                                                     seed=0,\n",
        "                                                     subset='validation',\n",
        "                                                    batch_size=batch_size)\n",
        "tail_data_2 = keras.utils.image_dataset_from_directory( data_dir + 'tail/tail_class_2',\n",
        "                                                    class_names=tail_class_2,\n",
        "                                                         image_size=image_size,\n",
        "                                                   color_mode=\"rgb\",\n",
        "                                                   shuffle=True,\n",
        "                                                     validation_split=0.1,\n",
        "                                                     seed=0,\n",
        "                                                     subset='training',\n",
        "                                                    batch_size=batch_size)\n",
        "tail_datav_2 = keras.utils.image_dataset_from_directory( data_dir + 'tail/tail_class_2',\n",
        "                                                    class_names=tail_class_2,\n",
        "                                                         image_size=image_size,\n",
        "                                                   color_mode=\"rgb\",\n",
        "                                                   shuffle=True,\n",
        "                                                     validation_split=0.1,\n",
        "                                                     seed=0,\n",
        "                                                     subset='validation',\n",
        "                                                    batch_size=batch_size)\n",
        "\n",
        "head_data=head_data.map(normalize_image).map(head_map)\n",
        "middle_data=middle_data.map(normalize_image).map(middle_map)\n",
        "tail_data_1=tail_data_1.map(normalize_image).map(tail1_map)\n",
        "tail_data_2=tail_data_2.map(normalize_image).map(tail2_map)\n",
        "head_datav=head_datav.map(normalize_image).map(head_map)\n",
        "middle_datav=middle_datav.map(normalize_image).map(middle_map)\n",
        "tail_datav_1=tail_datav_1.map(normalize_image).map(tail1_map)\n",
        "tail_datav_2=tail_datav_2.map(normalize_image).map(tail2_map)"
      ]
    },
    {
      "cell_type": "code",
      "execution_count": null,
      "id": "38c9ef2a-60fa-4162-bd90-96c73d84707e",
      "metadata": {
        "id": "38c9ef2a-60fa-4162-bd90-96c73d84707e"
      },
      "outputs": [],
      "source": []
    },
    {
      "cell_type": "code",
      "execution_count": null,
      "id": "0c1adcd1-e6ce-446b-b2c1-d32ec8bf631d",
      "metadata": {
        "id": "0c1adcd1-e6ce-446b-b2c1-d32ec8bf631d"
      },
      "outputs": [],
      "source": [
        "data_hm = head_data.concatenate(middle_data)\n",
        "data_hmv = head_datav.concatenate(middle_datav)\n",
        "\n",
        "data_mt = middle_data.concatenate(tail_data)\n",
        "data_mtv = middle_datav.concatenate(tail_datav)\n",
        "\n",
        "dataset_train = data_hm.concatenate(tail_data)\n",
        "dataset_valid = data_hmv.concatenate(tail_datav)\n",
        "data_tail = tail_data_1.concatenate(tail_data_2)\n",
        "data_tailv = tail_datav_1.concatenate(tail_datav_2)"
      ]
    },
    {
      "cell_type": "markdown",
      "id": "b07b6fb6-6103-48ae-89a4-ef459206b908",
      "metadata": {
        "id": "b07b6fb6-6103-48ae-89a4-ef459206b908"
      },
      "source": [
        "### Data Augmentation"
      ]
    },
    {
      "cell_type": "code",
      "execution_count": null,
      "id": "55138691-f40c-4c43-8152-9e040c7f9a07",
      "metadata": {
        "id": "55138691-f40c-4c43-8152-9e040c7f9a07"
      },
      "outputs": [],
      "source": [
        "def data_augmentation(img,label):\n",
        "    img=layers.RandomFlip(\"horizontal_and_vertical\")(img)\n",
        "    img=layers.RandomRotation(1)(img)\n",
        "    return img,label\n"
      ]
    },
    {
      "cell_type": "markdown",
      "id": "215acaf3",
      "metadata": {
        "id": "215acaf3"
      },
      "source": [
        "### Count class frequency"
      ]
    },
    {
      "cell_type": "code",
      "execution_count": null,
      "id": "43b94a27",
      "metadata": {
        "id": "43b94a27"
      },
      "outputs": [],
      "source": [
        "# train_freq = [0,0,0,0,0,0,0]\n",
        "# valid_freq = [0,0,0,0,0,0,0]\n",
        "# inverse_freq=[0,0,0,0,0,0,0]\n",
        "\n",
        "\n",
        "# for img in dataset_train:\n",
        "#     train_freq[img[1]] += 1\n",
        "\n",
        "# for img in dataset_valid:\n",
        "#     valid_freq[img[1]] += 1\n",
        "\n",
        "# for i in range(7):\n",
        "#     inverse_freq[i]=1./max(train_freq[i],1)"
      ]
    },
    {
      "cell_type": "code",
      "execution_count": null,
      "id": "3190f74b",
      "metadata": {
        "id": "3190f74b",
        "outputId": "159c101c-1b02-4b5e-bace-9676d5abd0b9"
      },
      "outputs": [
        {
          "data": {
            "image/png": "[encoded data removed]",
            "text/plain": [
              "<Figure size 640x480 with 1 Axes>"
            ]
          },
          "metadata": {},
          "output_type": "display_data"
        },
        {
          "data": {
            "image/png": "[encoded data removed]",
            "text/plain": [
              "<Figure size 640x480 with 1 Axes>"
            ]
          },
          "metadata": {},
          "output_type": "display_data"
        }
      ],
      "source": [
        "# x=np.array(class_names)\n",
        "# y=np.array(train_freq)\n",
        "\n",
        "# plt.bar(x,y)\n",
        "# plt.title(\"train split\")\n",
        "# plt.show()\n",
        "\n",
        "# x=np.array(class_names)\n",
        "# y=np.array(valid_freq)\n",
        "\n",
        "# plt.bar(x,y)\n",
        "# plt.title(\"valid split\")\n",
        "# plt.show()"
      ]
    },
    {
      "cell_type": "markdown",
      "id": "3075c39c-5ac0-4e96-8274-18ebbc7dd778",
      "metadata": {
        "id": "3075c39c-5ac0-4e96-8274-18ebbc7dd778"
      },
      "source": [
        "### Data Pipeline"
      ]
    },
    {
      "cell_type": "code",
      "execution_count": null,
      "id": "5e5cfb5c-4aca-4e81-9ff4-d7aceede6284",
      "metadata": {
        "id": "5e5cfb5c-4aca-4e81-9ff4-d7aceede6284"
      },
      "outputs": [],
      "source": [
        "# print(head_data)"
      ]
    },
    {
      "cell_type": "code",
      "execution_count": null,
      "id": "6b6c5837-7dbb-4a81-bf14-3d5ac554ebaf",
      "metadata": {
        "id": "6b6c5837-7dbb-4a81-bf14-3d5ac554ebaf"
      },
      "outputs": [],
      "source": [
        "def shuffle_and_batch(dataset):\n",
        "    #dataset = dataset.filter(lambda x, y: tf.size(x) > 0)\n",
        "    return dataset.shuffle(5000).batch(16, drop_remainder=False)\n",
        "data_tail = shuffle_and_batch(data_tail)\n",
        "data_tailv = shuffle_and_batch(data_tailv)\n",
        "dataset_train = shuffle_and_batch(dataset_train)\n",
        "dataset_valid = shuffle_and_batch(dataset_valid)\n",
        "head_data = shuffle_and_batch(head_data)\n",
        "middle_data = shuffle_and_batch(middle_data)\n",
        "tail_data_1 = shuffle_and_batch(tail_data_1)\n",
        "tail_data_2 = shuffle_and_batch(tail_data_2)\n",
        "head_datav = shuffle_and_batch(head_datav)\n",
        "middle_datav = shuffle_and_batch(middle_datav)\n",
        "tail_datav_1 = shuffle_and_batch(tail_datav_1)\n",
        "tail_datav_2 = shuffle_and_batch(tail_datav_2)\n",
        "data_hm = shuffle_and_batch(data_hm)\n",
        "data_hmv = shuffle_and_batch(data_hmv)\n",
        "data_mt = shuffle_and_batch(data_mt)\n",
        "data_mtv = shuffle_and_batch(data_mtv)\n"
      ]
    },
    {
      "cell_type": "code",
      "source": [],
      "metadata": {
        "id": "FUReOy6-tYRT"
      },
      "id": "FUReOy6-tYRT",
      "execution_count": null,
      "outputs": []
    },
    {
      "cell_type": "code",
      "execution_count": null,
      "id": "42d060f4-cae9-437c-a946-edf77a1256e6",
      "metadata": {
        "colab": {
          "base_uri": "https://localhost:8080/"
        },
        "id": "42d060f4-cae9-437c-a946-edf77a1256e6",
        "outputId": "4ea6b3ad-585f-46c8-d4d2-99033fa50c0a"
      },
      "outputs": [
        {
          "output_type": "stream",
          "name": "stdout",
          "text": [
            "<_BatchDataset element_spec=(TensorSpec(shape=(None, 360, 270, 3), dtype=tf.float32, name=None), TensorSpec(shape=(None,), dtype=tf.int32, name=None))>\n"
          ]
        }
      ],
      "source": [
        "# print(tail_data)"
      ]
    },
    {
      "cell_type": "markdown",
      "id": "230e6826-07b4-4fe4-8e4e-ceaebc8b5d7c",
      "metadata": {
        "id": "230e6826-07b4-4fe4-8e4e-ceaebc8b5d7c"
      },
      "source": [
        "## Model"
      ]
    },
    {
      "cell_type": "markdown",
      "id": "432aebff-b022-47db-89c6-c0bbd5891afc",
      "metadata": {
        "id": "432aebff-b022-47db-89c6-c0bbd5891afc"
      },
      "source": [
        "### Metrics"
      ]
    },
    {
      "cell_type": "markdown",
      "id": "2b06e74a-a6d3-46e6-913e-f1292b629bf1",
      "metadata": {
        "id": "2b06e74a-a6d3-46e6-913e-f1292b629bf1"
      },
      "source": [
        "#### Balanced Accuracy Class"
      ]
    },
    {
      "cell_type": "code",
      "execution_count": null,
      "id": "4366f56f-9fb4-41c9-81b3-a41c4d8f2549",
      "metadata": {
        "id": "4366f56f-9fb4-41c9-81b3-a41c4d8f2549"
      },
      "outputs": [],
      "source": [
        "class BalancedSparseCategoricalAccuracy(keras.metrics.Metric):\n",
        "\n",
        "    def __init__(self, name='balanced_sparse_categorical_accuracy', **kwargs):\n",
        "        super(BalancedSparseCategoricalAccuracy, self).__init__(**kwargs)\n",
        "\n",
        "        self.correct_count = tf.Variable([0,0,0,0,0,0,0])\n",
        "        self.total_count = tf.Variable([0,0,0,0,0,0,0])\n",
        "        self.accuracy = 0.0\n",
        "        self.quotient = tf.Variable([0.,0.,0.,0.,0.,0.,0.])\n",
        "\n",
        "    def reset_state(self):\n",
        "        self.correct_count = tf.Variable([0,0,0,0,0,0,0])\n",
        "        self.total_count = tf.Variable([0,0,0,0,0,0,0])\n",
        "        self.quotient = tf.Variable([0.,0.,0.,0.,0.,0.,0.])\n",
        "        self.accuracy = 0.0\n",
        "\n",
        "    def update_state(self, y_true, y_pred, sample_weight=None):\n",
        "        pred_idx = tf.argmax(y_pred, axis=1, output_type=tf.int32)\n",
        "        y_true=tf.reshape(y_true, tf.shape(pred_idx))\n",
        "        y_true=tf.cast(y_true,tf.int32)\n",
        "\n",
        "        def count_all(y_true):\n",
        "            return tf.cast([ tf.reduce_sum(tf.cast(tf.equal(y_true,i),tf.float32)) for i in range(0,7)],tf.int32)\n",
        "\n",
        "        def count_match(y_true, y_pred):\n",
        "             return tf.cast([ tf.reduce_sum(tf.cast(tf.equal(y_true,i)&tf.equal(y_true,pred_idx),tf.float32)) for i in range(0,7) ],tf.int32)\n",
        "\n",
        "\n",
        "        total_counts = count_all(y_true)\n",
        "        tf.compat.v1.assign_add(self.total_count, total_counts)\n",
        "\n",
        "        correct_counts = count_match(y_true, y_pred)\n",
        "        tf.compat.v1.assign_add(self.correct_count, correct_counts)\n",
        "        self.quotient = tf.cast(self.correct_count/tf.maximum(self.total_count,tf.constant(1)), tf.float32)\n",
        "        print(self.quotient)\n",
        "        self.accuracy = tf.reduce_mean(self.correct_count/tf.maximum(self.total_count,1))\n",
        "        return self.accuracy\n",
        "\n",
        "    def result(self):\n",
        "        self.accuracy = tf.reduce_mean(self.correct_count/tf.maximum(self.total_count,1))\n",
        "        self.accuracy = tf.reduce_sum(tf.reduce_sum(self.quotient) / tf.cast(tf.math.count_nonzero(self.total_count),tf.float32))\n",
        "        return self.accuracy\n"
      ]
    },
    {
      "cell_type": "code",
      "source": [
        "# m = BalancedSparseCategoricalAccuracy()\n",
        "# m.update_state([[0]],[[0.9,0.1,0.,0.,0.,0.,0.]])\n",
        "# m.result()"
      ],
      "metadata": {
        "colab": {
          "base_uri": "https://localhost:8080/"
        },
        "id": "4gASU0IdSiCN",
        "outputId": "d0c88029-826e-425b-86e1-26fea003d2ed"
      },
      "id": "4gASU0IdSiCN",
      "execution_count": null,
      "outputs": [
        {
          "output_type": "stream",
          "name": "stdout",
          "text": [
            "tf.Tensor([1. 0. 0. 0. 0. 0. 0.], shape=(7,), dtype=float32)\n"
          ]
        },
        {
          "output_type": "execute_result",
          "data": {
            "text/plain": [
              "<tf.Tensor: shape=(), dtype=float32, numpy=1.0>"
            ]
          },
          "metadata": {},
          "execution_count": 12
        }
      ]
    },
    {
      "cell_type": "markdown",
      "id": "5e61558b-8e01-4549-b30a-a10f04dc17a8",
      "metadata": {
        "id": "5e61558b-8e01-4549-b30a-a10f04dc17a8"
      },
      "source": [
        "### Loss"
      ]
    },
    {
      "cell_type": "markdown",
      "id": "927a5fc6-ec61-492d-93e7-5d433e2b6d22",
      "metadata": {
        "id": "927a5fc6-ec61-492d-93e7-5d433e2b6d22"
      },
      "source": [
        "#### Focal Loss Parameter"
      ]
    },
    {
      "cell_type": "code",
      "execution_count": null,
      "id": "9edbee19-731c-4b2d-a2b5-88956abdf818",
      "metadata": {
        "id": "9edbee19-731c-4b2d-a2b5-88956abdf818"
      },
      "outputs": [],
      "source": [
        "def FocalLoss(y_true, y_pred):\n",
        "    y_true_oh = tf.cast(tf.one_hot(y_true, depth=7),tf.float32)\n",
        "    y_true_oh = tf.reshape(y_true_oh, tf.shape(y_pred))\n",
        "    p = tf.reduce_sum(y_true_oh * y_pred,axis=1)\n",
        "    return tf.math.reduce_sum(tf.constant(-1.0)*tf.math.pow((1-p), tf.constant(2.0))*tf.math.log(tf.maximum(p,tf.constant(1e-12))))"
      ]
    },
    {
      "cell_type": "code",
      "execution_count": null,
      "id": "fe0355e9-ef85-46b1-9a1b-b8ecaa64b0a9",
      "metadata": {
        "colab": {
          "base_uri": "https://localhost:8080/"
        },
        "id": "fe0355e9-ef85-46b1-9a1b-b8ecaa64b0a9",
        "outputId": "f3dbf6f9-ef3f-47f1-ad0c-8ca45605efdf"
      },
      "outputs": [
        {
          "output_type": "execute_result",
          "data": {
            "text/plain": [
              "<tf.Tensor: shape=(), dtype=float32, numpy=6.902873>"
            ]
          },
          "metadata": {},
          "execution_count": 22
        }
      ],
      "source": [
        "# y_true = tf.constant([[1],[0]])\n",
        "# y_pred = tf.constant([[0.1, 0.001, 0.3, 0.4, 0.5, 0.6, 0.7],\n",
        "#                        [0.8, 0.9, 1.0, 1.1, 1.2, 1.3, 1.4]])\n",
        "# y_true_oh=tf.cast(tf.one_hot(y_true, depth=7),tf.float32)\n",
        "# FocalLoss(y_true, y_pred)"
      ]
    },
    {
      "cell_type": "markdown",
      "id": "ed380aab-445e-47bc-87c3-8c0158b273c8",
      "metadata": {
        "id": "ed380aab-445e-47bc-87c3-8c0158b273c8"
      },
      "source": [
        "### Model Architecture"
      ]
    },
    {
      "cell_type": "code",
      "execution_count": null,
      "id": "8fcde524-6bbf-40d1-b7d4-b8df02fb1f34",
      "metadata": {
        "id": "8fcde524-6bbf-40d1-b7d4-b8df02fb1f34"
      },
      "outputs": [],
      "source": [
        "vgg = tf.keras.applications.vgg16.VGG16(include_top = False,\n",
        "                                       input_shape=(360,270,3),\n",
        "                                       )\n",
        "vgg.trainable=False"
      ]
    },
    {
      "cell_type": "code",
      "execution_count": null,
      "id": "af6bfe5d-11fe-44ed-b903-17826c5d7467",
      "metadata": {
        "scrolled": true,
        "colab": {
          "base_uri": "https://localhost:8080/"
        },
        "id": "af6bfe5d-11fe-44ed-b903-17826c5d7467",
        "outputId": "d25bbf94-6ec4-4edd-f67b-f3a8063fb904"
      },
      "outputs": [
        {
          "output_type": "stream",
          "name": "stdout",
          "text": [
            "Model: \"vgg16\"\n",
            "_________________________________________________________________\n",
            " Layer (type)                Output Shape              Param #   \n",
            "=================================================================\n",
            " input_1 (InputLayer)        [(None, 360, 270, 3)]     0         \n",
            "                                                                 \n",
            " block1_conv1 (Conv2D)       (None, 360, 270, 64)      1792      \n",
            "                                                                 \n",
            " block1_conv2 (Conv2D)       (None, 360, 270, 64)      36928     \n",
            "                                                                 \n",
            " block1_pool (MaxPooling2D)  (None, 180, 135, 64)      0         \n",
            "                                                                 \n",
            " block2_conv1 (Conv2D)       (None, 180, 135, 128)     73856     \n",
            "                                                                 \n",
            " block2_conv2 (Conv2D)       (None, 180, 135, 128)     147584    \n",
            "                                                                 \n",
            " block2_pool (MaxPooling2D)  (None, 90, 67, 128)       0         \n",
            "                                                                 \n",
            " block3_conv1 (Conv2D)       (None, 90, 67, 256)       295168    \n",
            "                                                                 \n",
            " block3_conv2 (Conv2D)       (None, 90, 67, 256)       590080    \n",
            "                                                                 \n",
            " block3_conv3 (Conv2D)       (None, 90, 67, 256)       590080    \n",
            "                                                                 \n",
            " block3_pool (MaxPooling2D)  (None, 45, 33, 256)       0         \n",
            "                                                                 \n",
            " block4_conv1 (Conv2D)       (None, 45, 33, 512)       1180160   \n",
            "                                                                 \n",
            " block4_conv2 (Conv2D)       (None, 45, 33, 512)       2359808   \n",
            "                                                                 \n",
            " block4_conv3 (Conv2D)       (None, 45, 33, 512)       2359808   \n",
            "                                                                 \n",
            " block4_pool (MaxPooling2D)  (None, 22, 16, 512)       0         \n",
            "                                                                 \n",
            " block5_conv1 (Conv2D)       (None, 22, 16, 512)       2359808   \n",
            "                                                                 \n",
            " block5_conv2 (Conv2D)       (None, 22, 16, 512)       2359808   \n",
            "                                                                 \n",
            " block5_conv3 (Conv2D)       (None, 22, 16, 512)       2359808   \n",
            "                                                                 \n",
            " block5_pool (MaxPooling2D)  (None, 11, 8, 512)        0         \n",
            "                                                                 \n",
            "=================================================================\n",
            "Total params: 14714688 (56.13 MB)\n",
            "Trainable params: 0 (0.00 Byte)\n",
            "Non-trainable params: 14714688 (56.13 MB)\n",
            "_________________________________________________________________\n"
          ]
        }
      ],
      "source": [
        "# vgg.summary()"
      ]
    },
    {
      "cell_type": "code",
      "execution_count": null,
      "id": "048fb3e8-7a8d-4a64-be3f-4fd83c443863",
      "metadata": {
        "scrolled": true,
        "id": "048fb3e8-7a8d-4a64-be3f-4fd83c443863"
      },
      "outputs": [],
      "source": [
        "model = keras.Sequential([\n",
        "    layers.RandomRotation(1,input_shape=(360,270,3), fill_mode='nearest'),\n",
        "    layers.RandomFlip('horizontal_and_vertical'),\n",
        "    layers.RandomTranslation(0.01, 0.01, fill_mode='nearest'),\n",
        "    layers.RandomZoom(0.1, fill_mode='nearest'),\n",
        "    layers.RandomContrast(0.2),\n",
        "    vgg,\n",
        "    layers.MaxPool2D(),\n",
        "    layers.MaxPool2D(),\n",
        "    layers.Conv2D(256, (2,2), activation='relu'),\n",
        "    layers.Flatten(),\n",
        "    layers.Dense(64, activation='linear'),\n",
        "    layers.LeakyReLU(0.01),\n",
        "    layers.Dropout(0.2),\n",
        "    layers.Dense(64, activation='linear'),\n",
        "    layers.LeakyReLU(0.01),\n",
        "    layers.Dropout(0.2),\n",
        "    layers.Dense(7, activation='softmax'),\n",
        "])\n",
        "\n",
        "model.build()"
      ]
    },
    {
      "cell_type": "code",
      "execution_count": null,
      "id": "7f6fd5db-b010-4730-9e08-5b442b40d874",
      "metadata": {
        "scrolled": true,
        "colab": {
          "base_uri": "https://localhost:8080/"
        },
        "id": "7f6fd5db-b010-4730-9e08-5b442b40d874",
        "outputId": "bb0cfeb7-41c1-4313-d095-af841de2c112"
      },
      "outputs": [
        {
          "output_type": "stream",
          "name": "stdout",
          "text": [
            "Model: \"sequential_1\"\n",
            "_________________________________________________________________\n",
            " Layer (type)                Output Shape              Param #   \n",
            "=================================================================\n",
            " random_rotation_1 (RandomR  (None, 360, 270, 3)       0         \n",
            " otation)                                                        \n",
            "                                                                 \n",
            " random_flip_1 (RandomFlip)  (None, 360, 270, 3)       0         \n",
            "                                                                 \n",
            " random_translation_1 (Rand  (None, 360, 270, 3)       0         \n",
            " omTranslation)                                                  \n",
            "                                                                 \n",
            " random_zoom_1 (RandomZoom)  (None, 360, 270, 3)       0         \n",
            "                                                                 \n",
            " random_contrast_1 (RandomC  (None, 360, 270, 3)       0         \n",
            " ontrast)                                                        \n",
            "                                                                 \n",
            " vgg16 (Functional)          (None, 11, 8, 512)        14714688  \n",
            "                                                                 \n",
            " max_pooling2d_2 (MaxPoolin  (None, 5, 4, 512)         0         \n",
            " g2D)                                                            \n",
            "                                                                 \n",
            " max_pooling2d_3 (MaxPoolin  (None, 2, 2, 512)         0         \n",
            " g2D)                                                            \n",
            "                                                                 \n",
            " conv2d_1 (Conv2D)           (None, 1, 1, 256)         524544    \n",
            "                                                                 \n",
            " flatten_1 (Flatten)         (None, 256)               0         \n",
            "                                                                 \n",
            " dense_3 (Dense)             (None, 64)                16448     \n",
            "                                                                 \n",
            " leaky_re_lu_2 (LeakyReLU)   (None, 64)                0         \n",
            "                                                                 \n",
            " dropout_2 (Dropout)         (None, 64)                0         \n",
            "                                                                 \n",
            " dense_4 (Dense)             (None, 64)                4160      \n",
            "                                                                 \n",
            " leaky_re_lu_3 (LeakyReLU)   (None, 64)                0         \n",
            "                                                                 \n",
            " dropout_3 (Dropout)         (None, 64)                0         \n",
            "                                                                 \n",
            " dense_5 (Dense)             (None, 7)                 455       \n",
            "                                                                 \n",
            "=================================================================\n",
            "Total params: 15260295 (58.21 MB)\n",
            "Trainable params: 545607 (2.08 MB)\n",
            "Non-trainable params: 14714688 (56.13 MB)\n",
            "_________________________________________________________________\n"
          ]
        }
      ],
      "source": [
        "model.summary()\n"
      ]
    },
    {
      "cell_type": "markdown",
      "source": [],
      "metadata": {
        "id": "LOa-ZdU00Xfl"
      },
      "id": "LOa-ZdU00Xfl"
    },
    {
      "cell_type": "code",
      "source": [
        "file_path = \"/content/drive/My Drive/AI ML GC/transferlearning3.keras\"\n",
        "print(file_path)\n"
      ],
      "metadata": {
        "colab": {
          "base_uri": "https://localhost:8080/"
        },
        "id": "cWCMzJJ82bjY",
        "outputId": "48b35eb0-48e5-4a32-900c-78be78e1d364"
      },
      "id": "cWCMzJJ82bjY",
      "execution_count": null,
      "outputs": [
        {
          "output_type": "stream",
          "name": "stdout",
          "text": [
            "/content/drive/My Drive/AI ML GC/transferlearning3.keras\n"
          ]
        }
      ]
    },
    {
      "cell_type": "code",
      "source": [
        "import os\n",
        "\n",
        "# List files in the directory\n",
        "directory = \"/content/drive/My Drive/AI ML GC/\"\n",
        "print(os.listdir(directory))\n"
      ],
      "metadata": {
        "id": "gzpXbqRj2kxe",
        "outputId": "c5c37e5a-c6e6-42d5-8c07-a6819e7bf3dc",
        "colab": {
          "base_uri": "https://localhost:8080/"
        }
      },
      "id": "gzpXbqRj2kxe",
      "execution_count": null,
      "outputs": [
        {
          "output_type": "stream",
          "name": "stdout",
          "text": [
            "['KCDH2024_Training_Input_10K_Organized.zip', 'transferlearning3.keras']\n"
          ]
        }
      ]
    },
    {
      "cell_type": "code",
      "source": [
        "model = keras.models.load_model(\"/content/drive/My Drive/AI ML GC/transferlearning3.keras\", custom_objects={\"BalancedSparseCategoricalAccuracy\" : BalancedSparseCategoricalAccuracy()}, compile=False)"
      ],
      "metadata": {
        "id": "hkgIe6vSnW2v"
      },
      "id": "hkgIe6vSnW2v",
      "execution_count": null,
      "outputs": []
    },
    {
      "cell_type": "code",
      "source": [
        "model.summary()\n"
      ],
      "metadata": {
        "colab": {
          "base_uri": "https://localhost:8080/"
        },
        "id": "mkaWLzg3o4ms",
        "outputId": "2ed6f4ab-742c-4689-a239-175d0fee2b60"
      },
      "id": "mkaWLzg3o4ms",
      "execution_count": null,
      "outputs": [
        {
          "output_type": "stream",
          "name": "stdout",
          "text": [
            "Model: \"sequential_1\"\n",
            "_________________________________________________________________\n",
            " Layer (type)                Output Shape              Param #   \n",
            "=================================================================\n",
            " random_rotation_1 (RandomR  (None, 360, 270, 3)       0         \n",
            " otation)                                                        \n",
            "                                                                 \n",
            " random_flip_1 (RandomFlip)  (None, 360, 270, 3)       0         \n",
            "                                                                 \n",
            " random_translation_1 (Rand  (None, 360, 270, 3)       0         \n",
            " omTranslation)                                                  \n",
            "                                                                 \n",
            " random_zoom_1 (RandomZoom)  (None, 360, 270, 3)       0         \n",
            "                                                                 \n",
            " random_contrast_1 (RandomC  (None, 360, 270, 3)       0         \n",
            " ontrast)                                                        \n",
            "                                                                 \n",
            " vgg16 (Functional)          (None, 11, 8, 512)        14714688  \n",
            "                                                                 \n",
            " max_pooling2d_2 (MaxPoolin  (None, 5, 4, 512)         0         \n",
            " g2D)                                                            \n",
            "                                                                 \n",
            " max_pooling2d_3 (MaxPoolin  (None, 2, 2, 512)         0         \n",
            " g2D)                                                            \n",
            "                                                                 \n",
            " conv2d_1 (Conv2D)           (None, 1, 1, 256)         524544    \n",
            "                                                                 \n",
            " flatten_1 (Flatten)         (None, 256)               0         \n",
            "                                                                 \n",
            " dense_3 (Dense)             (None, 64)                16448     \n",
            "                                                                 \n",
            " leaky_re_lu_2 (LeakyReLU)   (None, 64)                0         \n",
            "                                                                 \n",
            " dropout_2 (Dropout)         (None, 64)                0         \n",
            "                                                                 \n",
            " dense_4 (Dense)             (None, 64)                4160      \n",
            "                                                                 \n",
            " leaky_re_lu_3 (LeakyReLU)   (None, 64)                0         \n",
            "                                                                 \n",
            " dropout_3 (Dropout)         (None, 64)                0         \n",
            "                                                                 \n",
            " dense_5 (Dense)             (None, 7)                 455       \n",
            "                                                                 \n",
            "=================================================================\n",
            "Total params: 15260295 (58.21 MB)\n",
            "Trainable params: 545607 (2.08 MB)\n",
            "Non-trainable params: 14714688 (56.13 MB)\n",
            "_________________________________________________________________\n"
          ]
        }
      ]
    },
    {
      "cell_type": "markdown",
      "id": "21dedb17-5aed-4013-80a6-9f7cabad0256",
      "metadata": {
        "id": "21dedb17-5aed-4013-80a6-9f7cabad0256"
      },
      "source": [
        "### Model Training"
      ]
    },
    {
      "cell_type": "code",
      "execution_count": null,
      "id": "9eafbcee",
      "metadata": {
        "id": "9eafbcee"
      },
      "outputs": [],
      "source": [
        "metric = BalancedSparseCategoricalAccuracy()\n",
        "\n",
        "model.compile(\n",
        "    optimizer = tf.keras.optimizers.Adam(learning_rate=0.0001),\n",
        "    loss = FocalLoss,\n",
        "    metrics = [metric, 'accuracy']\n",
        ")"
      ]
    },
    {
      "cell_type": "code",
      "execution_count": null,
      "id": "43d958a8-c64e-41b9-a357-20b238fb760c",
      "metadata": {
        "id": "43d958a8-c64e-41b9-a357-20b238fb760c"
      },
      "outputs": [],
      "source": [
        "# Early stopping to stop training when loss stops to decrease\n",
        "es = keras.callbacks.EarlyStopping(monitor='val_loss', min_delta=0.1, patience = 10)"
      ]
    },
    {
      "cell_type": "code",
      "execution_count": null,
      "id": "43e37855-eceb-43f0-a815-346ee9833581",
      "metadata": {
        "id": "43e37855-eceb-43f0-a815-346ee9833581"
      },
      "outputs": [],
      "source": [
        "total_history = []"
      ]
    },
    {
      "cell_type": "code",
      "execution_count": null,
      "id": "511399d4",
      "metadata": {
        "colab": {
          "base_uri": "https://localhost:8080/"
        },
        "id": "511399d4",
        "outputId": "2461e0af-e006-43b7-895e-e1eea1cad064"
      },
      "outputs": [
        {
          "output_type": "stream",
          "name": "stdout",
          "text": [
            "Epoch 1/10\n",
            "Tensor(\"Cast_17:0\", shape=(7,), dtype=float32)\n",
            "Tensor(\"Cast_17:0\", shape=(7,), dtype=float32)\n",
            "364/364 [==============================] - ETA: 0s - loss: 3.2771 - balanced_sparse_categorical_accuracy_1: 0.8981 - accuracy: 0.8981Tensor(\"Cast_17:0\", shape=(7,), dtype=float32)\n"
          ]
        }
      ],
      "source": [
        "history = model.fit(head_data,\n",
        "                         epochs=10,\n",
        "                         shuffle=True,\n",
        "                         validation_data=head_datav,\n",
        "                         callbacks = [es],\n",
        "                        )\n",
        "\n",
        "\n",
        "total_history.append(history)\n"
      ]
    },
    {
      "cell_type": "code",
      "execution_count": null,
      "id": "8b59cc64-558f-4ceb-8995-2d9870d0bc9f",
      "metadata": {
        "id": "8b59cc64-558f-4ceb-8995-2d9870d0bc9f"
      },
      "outputs": [],
      "source": []
    },
    {
      "cell_type": "code",
      "execution_count": null,
      "id": "0c642f9f",
      "metadata": {
        "colab": {
          "base_uri": "https://localhost:8080/",
          "height": 434
        },
        "id": "0c642f9f",
        "outputId": "850ca043-f1cb-4092-bd57-4fb305122ce3"
      },
      "outputs": [
        {
          "output_type": "display_data",
          "data": {
            "text/plain": [
              "<Figure size 640x480 with 1 Axes>"
            ],
            "image/png": "[encoded data removed]"
          },
          "metadata": {}
        }
      ],
      "source": [
        "y1=[]\n",
        "y2=[]\n",
        "\n",
        "for hist in total_history:\n",
        "  y2.extend(hist.history['loss'])\n",
        "  y1.extend(hist.history['val_loss'])\n",
        "\n",
        "plt.plot(y1)\n",
        "plt.plot(y2)\n",
        "plt.legend(['val loss', 'loss'])\n",
        "plt.show()"
      ]
    },
    {
      "cell_type": "code",
      "execution_count": null,
      "id": "95ffb22c-a325-425d-8123-cf9ecfe2db2c",
      "metadata": {
        "id": "95ffb22c-a325-425d-8123-cf9ecfe2db2c"
      },
      "outputs": [],
      "source": [
        "#model.save(\"/content/drive/My Drive/transferlearning_tail1.keras\")"
      ]
    },
    {
      "cell_type": "code",
      "execution_count": null,
      "id": "6242369a-b023-475f-acfc-e3b5ad32ce3d",
      "metadata": {
        "id": "6242369a-b023-475f-acfc-e3b5ad32ce3d"
      },
      "outputs": [],
      "source": []
    },
    {
      "cell_type": "markdown",
      "id": "452a129f-e941-477c-a12c-c4d1435dcc41",
      "metadata": {
        "id": "452a129f-e941-477c-a12c-c4d1435dcc41"
      },
      "source": [
        "## Model Testing"
      ]
    },
    {
      "cell_type": "code",
      "execution_count": null,
      "id": "77afffba-0b4a-4dd9-927e-4135fd0710e6",
      "metadata": {
        "colab": {
          "base_uri": "https://localhost:8080/"
        },
        "id": "77afffba-0b4a-4dd9-927e-4135fd0710e6",
        "outputId": "507e5e98-9985-4d41-bf3f-1fae88f20065"
      },
      "outputs": [
        {
          "output_type": "stream",
          "name": "stdout",
          "text": [
            "1/1 [==============================] - 0s 386ms/step\n"
          ]
        }
      ],
      "source": [
        "predictions=model.predict(tail_datav_1)"
      ]
    },
    {
      "cell_type": "code",
      "source": [
        "print(predictions)"
      ],
      "metadata": {
        "id": "-lKRCXN8tRYK"
      },
      "id": "-lKRCXN8tRYK",
      "execution_count": null,
      "outputs": []
    },
    {
      "cell_type": "code",
      "source": [
        "model.evaluate(tail_datav_2)"
      ],
      "metadata": {
        "colab": {
          "base_uri": "https://localhost:8080/"
        },
        "id": "YHl0o1l9povd",
        "outputId": "dea0859d-6280-4986-e2ac-6b908e89c8d0"
      },
      "id": "YHl0o1l9povd",
      "execution_count": null,
      "outputs": [
        {
          "output_type": "stream",
          "name": "stdout",
          "text": [
            "3/3 [==============================] - 2s 250ms/step - loss: 15.9133 - balanced_sparse_categorical_accuracy_8: nan - accuracy: 0.5732\n"
          ]
        },
        {
          "output_type": "execute_result",
          "data": {
            "text/plain": [
              "[15.913338661193848, nan, 0.5731707215309143]"
            ]
          },
          "metadata": {},
          "execution_count": 112
        }
      ]
    },
    {
      "cell_type": "code",
      "execution_count": null,
      "id": "f3cab7da-f60c-4644-b6e8-46a6aa0f6a60",
      "metadata": {
        "colab": {
          "base_uri": "https://localhost:8080/",
          "height": 430
        },
        "id": "f3cab7da-f60c-4644-b6e8-46a6aa0f6a60",
        "outputId": "6b94d714-bf7b-4251-feeb-08c454d5613b"
      },
      "outputs": [
        {
          "output_type": "display_data",
          "data": {
            "text/plain": [
              "<Figure size 640x480 with 1 Axes>"
            ],
            "image/png": "[encoded data removed]"
          },
          "metadata": {}
        }
      ],
      "source": [
        "predictions=np.asarray(predictions)\n",
        "class_pred=[]\n",
        "for i in predictions:\n",
        "    class_pred.append(tf.math.argmax(i))\n",
        "class_pred=np.asarray(class_pred)\n",
        "\n",
        "\n",
        "count=[0,0,0,0,0,0,0]\n",
        "for i in class_pred:\n",
        "    count[i] += 1\n",
        "\n",
        "X_Axis=np.arange(len(class_names))\n",
        "plt.xticks(X_Axis,class_names)\n",
        "width=0.3\n",
        "\n",
        "plt.bar(X_Axis, count, width, label=\"predictions\")\n",
        "#plt.bar(X_Axis+width, valid_freq, width, label=\"ground truth\")\n",
        "plt.legend()\n",
        "plt.show()"
      ]
    },
    {
      "cell_type": "code",
      "execution_count": null,
      "id": "8f654851-9b6f-41f0-a2e8-1ad93d8de62a",
      "metadata": {
        "colab": {
          "base_uri": "https://localhost:8080/"
        },
        "id": "8f654851-9b6f-41f0-a2e8-1ad93d8de62a",
        "outputId": "8cc522e4-1907-498d-f418-9cef16ecd416"
      },
      "outputs": [
        {
          "output_type": "stream",
          "name": "stdout",
          "text": [
            "class wise accuracy:  ['akiec', 'bcc', 'bkl', 'df', 'mel', 'nv', 'vasc'] [0.24242424242424243, 0.627906976744186, 0.0, 0.0, 0.0, 0.0, 0.07142857142857142]\n",
            "Balanced Accuracy= 0.23543994764924997\n"
          ]
        }
      ],
      "source": [
        "grd_truth=[]\n",
        "\n",
        "for batch in tail_datav:\n",
        "    val=np.asarray(batch[1])\n",
        "    grd_truth.extend(val)\n",
        "\n",
        "class_acc=[0,0,0,0,0,0,0]\n",
        "class_cnt = [0,0,0,0,0,0,0]\n",
        "\n",
        "for i,j in zip(class_pred,grd_truth):\n",
        "    if(i==j):\n",
        "        class_acc[j] += 1.\n",
        "    class_cnt[j] += 1\n",
        "for i in range(7):\n",
        "  class_acc[i] /= max(class_cnt[i],1)\n",
        "print(\"class wise accuracy: \", class_names,class_acc)\n",
        "\n",
        "accuracy=(sum(class_acc)/4)\n",
        "\n",
        "print(\"Balanced Accuracy=\",accuracy)"
      ]
    },
    {
      "cell_type": "code",
      "source": [
        "acc = BalancedSparseCategoricalAccuracy()\n",
        "acc.update_state(grd_truth, predictions)\n",
        "acc.result()"
      ],
      "metadata": {
        "colab": {
          "base_uri": "https://localhost:8080/"
        },
        "id": "61fMOkF9LndU",
        "outputId": "7fd6c21b-053b-44cd-ff52-d5ab3febfd0d"
      },
      "id": "61fMOkF9LndU",
      "execution_count": null,
      "outputs": [
        {
          "output_type": "stream",
          "name": "stdout",
          "text": [
            "tf.Tensor(\n",
            "[0.24242425 0.627907   0.         0.         0.         0.\n",
            " 0.07142857], shape=(7,), dtype=float32)\n"
          ]
        },
        {
          "output_type": "execute_result",
          "data": {
            "text/plain": [
              "<tf.Tensor: shape=(), dtype=float32, numpy=0.23543996>"
            ]
          },
          "metadata": {},
          "execution_count": 31
        }
      ]
    },
    {
      "cell_type": "code",
      "source": [
        "count=[0,0,0,0,0,0,0]\n",
        "total=0\n",
        "for i in range(len(grd_truth)):\n",
        "  if(grd_truth[i] == 6):\n",
        "    total += 1\n",
        "    count[class_pred[i]] += 1\n",
        "\n",
        "for i in range(7):\n",
        "  count[i] /= total\n",
        "\n",
        "print(count)"
      ],
      "metadata": {
        "colab": {
          "base_uri": "https://localhost:8080/"
        },
        "id": "mz9ndT3RLqub",
        "outputId": "3f318b17-bef2-4ea5-e875-6269f7ab41e3"
      },
      "id": "mz9ndT3RLqub",
      "execution_count": null,
      "outputs": [
        {
          "output_type": "stream",
          "name": "stdout",
          "text": [
            "[0.0, 0.9285714285714286, 0.0, 0.0, 0.0, 0.0, 0.07142857142857142]\n"
          ]
        }
      ]
    },
    {
      "cell_type": "markdown",
      "id": "fc5bd115-3a7d-4bd7-a5f6-888c99eacb0b",
      "metadata": {
        "id": "fc5bd115-3a7d-4bd7-a5f6-888c99eacb0b"
      },
      "source": []
    }
  ],
  "metadata": {
    "kernelspec": {
      "display_name": "Python 3",
      "name": "python3"
    },
    "language_info": {
      "codemirror_mode": {
        "name": "ipython",
        "version": 3
      },
      "file_extension": ".py",
      "mimetype": "text/x-python",
      "name": "python",
      "nbconvert_exporter": "python",
      "pygments_lexer": "ipython3",
      "version": "3.10.13"
    },
    "colab": {
      "provenance": [],
      "gpuType": "T4"
    },
    "accelerator": "GPU"
  },
  "nbformat": 4,
  "nbformat_minor": 5
}